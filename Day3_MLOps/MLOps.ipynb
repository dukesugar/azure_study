{
  "cells": [
    {
      "cell_type": "code",
      "source": [
        "from azureml.core import Workspace\n",
        "\n",
        "ws = Workspace.from_config()\n",
        "\n",
        "print(\"Workspace name: \" + ws.name,\n",
        "        \"Azure region: \" + ws.location,\n",
        "        \"Subscription id: \" + ws.subscription_id,\n",
        "        \"Resource Group: \" + ws.resource_group, sep=\"\\n\"\n",
        ")"
      ],
      "outputs": [
        {
          "output_type": "stream",
          "name": "stdout",
          "text": "Workspace name: labuser25-ml-001\nAzure region: swedencentral\nSubscription id: f5bc93f2-df0a-4b1a-ab9e-2b0203fc7d26\nResource Group: rg25\n"
        }
      ],
      "execution_count": 1,
      "metadata": {
        "gather": {
          "logged": 1744168053557
        }
      }
    },
    {
      "cell_type": "code",
      "source": [
        "from azureml.core import Experiment\n",
        "\n",
        "experiment = Experiment(workspace=ws, name=\"diabetes-experiment\")"
      ],
      "outputs": [],
      "execution_count": 2,
      "metadata": {
        "gather": {
          "logged": 1744168053652
        }
      }
    },
    {
      "cell_type": "code",
      "source": [
        "from sklearn.datasets import load_diabetes\n",
        "from sklearn.model_selection import train_test_split\n",
        "import pandas as pd\n",
        "\n",
        "#Sklearn에서 데이터 로드\n",
        "diabetes = load_diabetes()\n",
        "\n",
        "#데이터프레임으로 변환\n",
        "x_df = pd.DataFrame(diabetes.data, columns=diabetes.feature_names)\n",
        "y_df = pd.Series(diabetes.target, name=\"Y\")\n",
        "\n",
        "# train/test 데이터의 분할\n",
        "x_train, x_test, y_train, y_test = train_test_split(\n",
        "                                                        x_df, \n",
        "                                                        y_df, \n",
        "                                                        test_size = 0.2,\n",
        "                                                        random_state=66)\n",
        "\n",
        "print(x_train)"
      ],
      "outputs": [
        {
          "output_type": "stream",
          "name": "stdout",
          "text": "          age       sex       bmi        bp        s1        s2        s3  \\\n440 -0.045472 -0.044642  0.039062  0.001215  0.016318  0.015283 -0.028674   \n389 -0.005515  0.050680  0.001339 -0.084856 -0.011201 -0.016658  0.048640   \n5   -0.092695 -0.044642 -0.040696 -0.019442 -0.068991 -0.079288  0.041277   \n289 -0.074533  0.050680  0.055229 -0.040099  0.053469  0.053174 -0.043401   \n101  0.016281  0.050680 -0.045007  0.063187  0.010815 -0.000374  0.063367   \n..        ...       ...       ...       ...       ...       ...       ...   \n122  0.048974  0.050680  0.081097  0.021872  0.043837  0.064134 -0.054446   \n51   0.059871  0.050680  0.016428  0.028758 -0.041472 -0.029184 -0.028674   \n119  0.016281 -0.044642 -0.047163 -0.002228 -0.019456 -0.042963  0.033914   \n316  0.016281  0.050680  0.014272  0.001215  0.001183 -0.021355 -0.032356   \n20  -0.049105 -0.044642 -0.056863 -0.043542 -0.045599 -0.043276  0.000779   \n\n           s4        s5        s6  \n440  0.026560  0.044529 -0.025930  \n389 -0.039493 -0.041176 -0.088062  \n5   -0.076395 -0.041176 -0.096346  \n289  0.071210  0.061238 -0.034215  \n101 -0.039493 -0.030748  0.036201  \n..        ...       ...       ...  \n122  0.071210  0.032432  0.048628  \n51  -0.002592 -0.002398 -0.021788  \n119 -0.039493  0.027364  0.027917  \n316  0.034309  0.074966  0.040343  \n20  -0.039493 -0.011897  0.015491  \n\n[353 rows x 10 columns]\n"
        }
      ],
      "execution_count": 3,
      "metadata": {
        "gather": {
          "logged": 1744168054513
        }
      }
    },
    {
      "cell_type": "code",
      "source": [
        "from sklearn.linear_model import Ridge\n",
        "from sklearn.metrics import mean_squared_error\n",
        "import joblib\n",
        "import math\n",
        "\n",
        "alphas = [0.1, 0.2, 0.3, 0.4, 0.5, 0.6, 0.7, 0.8, 0.9, 1]\n",
        "\n",
        "for alpha in alphas:\n",
        "    #데이터 실험의 시작\n",
        "    run = experiment.start_logging()\n",
        "    run.log(\"alpha value\", alpha)\n",
        "\n",
        "    model = Ridge(alpha = alpha)\n",
        "    model.fit(X= x_train, y= y_train)\n",
        "\n",
        "    y_pred = model.predict(x_test)\n",
        "    rmse = math.sqrt(mean_squared_error(y_true=y_test, y_pred=y_pred))\n",
        "    run.log(\"rmse\", rmse)\n",
        "\n",
        "    model_name = \"model_alpha_\"+str(alpha) +\".pkl\"\n",
        "    filename = \"outputs/\" + model_name\n",
        "    \n",
        "    joblib.dump(value = model, filename = filename)\n",
        "    run.upload_file(name= model_name, path_or_stream = filename)\n",
        "\n",
        "    run.complete()\n",
        "    print(f\"{alpha} experiment completed\")\n"
      ],
      "outputs": [
        {
          "output_type": "stream",
          "name": "stdout",
          "text": "0.1 experiment completed\n0.2 experiment completed\n0.3 experiment completed\n0.4 experiment completed\n0.5 experiment completed\n0.6 experiment completed\n0.7 experiment completed\n0.8 experiment completed\n0.9 experiment completed\n1 experiment completed\n"
        }
      ],
      "execution_count": 4,
      "metadata": {
        "gather": {
          "logged": 1744168085009
        }
      }
    },
    {
      "cell_type": "code",
      "source": [
        "!pip install joblib"
      ],
      "outputs": [
        {
          "output_type": "stream",
          "name": "stdout",
          "text": "Requirement already satisfied: joblib in /anaconda/envs/azureml_py38/lib/python3.10/site-packages (1.2.0)\r\n"
        }
      ],
      "execution_count": 5,
      "metadata": {}
    },
    {
      "cell_type": "code",
      "source": [
        "experiment"
      ],
      "outputs": [
        {
          "output_type": "execute_result",
          "execution_count": 6,
          "data": {
            "text/plain": "Experiment(Name: diabetes-experiment,\nWorkspace: labuser25-ml-001)",
            "text/html": "<table style=\"width:100%\"><tr><th>Name</th><th>Workspace</th><th>Report Page</th><th>Docs Page</th></tr><tr><td>diabetes-experiment</td><td>labuser25-ml-001</td><td><a href=\"https://ml.azure.com/experiments/id/24e5a191-f0c1-4c1d-83ae-b9abcbbe9d31?wsid=/subscriptions/f5bc93f2-df0a-4b1a-ab9e-2b0203fc7d26/resourcegroups/rg25/workspaces/labuser25-ml-001&amp;tid=c3b5a8fe-e46d-4078-9bd0-5eb0bb801edb\" target=\"_blank\" rel=\"noopener\">Link to Azure Machine Learning studio</a></td><td><a href=\"https://docs.microsoft.com/en-us/python/api/azureml-core/azureml.core.experiment.Experiment?view=azure-ml-py\" target=\"_blank\" rel=\"noopener\">Link to Documentation</a></td></tr></table>"
          },
          "metadata": {}
        }
      ],
      "execution_count": 6,
      "metadata": {
        "gather": {
          "logged": 1744168089341
        }
      }
    },
    {
      "cell_type": "code",
      "source": [
        "# Best model\n",
        "minimum_rmse_runid = None\n",
        "minimum_rmse = None\n",
        "for run in experiment.get_runs():\n",
        "    run_metrics = run.get_metrics()\n",
        "    run_details = run.get_details()\n",
        "    # each logged metric becomes a key in this returned dict\n",
        "    run_rmse = run_metrics[\"rmse\"]\n",
        "    run_id = run_details[\"runId\"]\n",
        "    print(run_id, run_rmse)\n",
        "    if minimum_rmse is None:\n",
        "        minimum_rmse = run_rmse\n",
        "        minimum_rmse_runid = run_id\n",
        "    else:\n",
        "        if run_rmse < minimum_rmse:\n",
        "            minimum_rmse = run_rmse\n",
        "            minimum_rmse_runid = run_id\n",
        "print(\"-\"*100)\n",
        "print(\"Best run_id: \" + minimum_rmse_runid)\n",
        "print(\"Best RMSE: \" + str(minimum_rmse))"
      ],
      "outputs": [
        {
          "output_type": "stream",
          "name": "stdout",
          "text": "52edb24f-905b-4e1d-9ae2-ad624b1754ae 61.91311887374143\nabc84bb8-6a98-4825-bec0-d2f2e194b294 61.473546383461105\n2a365155-5d54-49c4-9e6d-f9c6107e3778 61.011269045900264\nc6b447d4-1f99-4d7d-8e2a-691c491139d9 60.52506485600075\na73424f6-e05e-431d-a9f0-f6cace96443f 60.01417288299607\nee1ca777-d410-4618-b001-f76939fabd9e 59.47884372812509\n0955583a-5471-4d93-8804-b359aadd0cba 58.921415390953136\nb11ecc1f-6c10-421a-961a-957d5c57d7aa 58.34847059993005\n79ecccdd-d5c1-4637-9bc5-aa4177c32d2c 57.77530220002151\nac9c7bd2-ff62-4a30-b937-e71ba09d32ab 57.23482878684463\n----------------------------------------------------------------------------------------------------\nBest run_id: ac9c7bd2-ff62-4a30-b937-e71ba09d32ab\nBest RMSE: 57.23482878684463\n"
        }
      ],
      "execution_count": 7,
      "metadata": {
        "gather": {
          "logged": 1744168093914
        }
      }
    },
    {
      "cell_type": "code",
      "source": [
        "from azureml.core import Run\n",
        "\n",
        "best_run = Run(experiment=experiment, run_id=minimum_rmse_runid)\n",
        "print(best_run.get_file_names())"
      ],
      "outputs": [
        {
          "output_type": "stream",
          "name": "stdout",
          "text": "['model_alpha_0.1.pkl', 'outputs/model_alpha_0.1.pkl']\n"
        }
      ],
      "execution_count": 8,
      "metadata": {
        "gather": {
          "logged": 1744168094039
        }
      }
    },
    {
      "cell_type": "code",
      "source": [
        "best_run.download_file(name = str(best_run.get_file_names()[0]))"
      ],
      "outputs": [],
      "execution_count": 9,
      "metadata": {
        "gather": {
          "logged": 1744168094219
        }
      }
    },
    {
      "cell_type": "code",
      "source": [
        "import numpy as np\n",
        "from azureml.core import Dataset\n",
        "np.savetxt('features.csv', x_train, delimiter=',')\n",
        "np.savetxt('labels.csv', y_train, delimiter=',')\n",
        "datastore = ws.get_default_datastore()\n",
        "datastore.upload_files(files=['./features.csv', './labels.csv'],\n",
        "                       target_path='diabetes-experiment/',\n",
        "                       overwrite=True)\n",
        "input_dataset = Dataset.Tabular.from_delimited_files(path=[(datastore, 'diabetes-experiment/features.csv')])\n",
        "output_dataset = Dataset.Tabular.from_delimited_files(path=[(datastore, 'diabetes-experiment/labels.csv')])"
      ],
      "outputs": [
        {
          "output_type": "stream",
          "name": "stderr",
          "text": "\"datastore.upload_files\" is deprecated after version 1.0.69. Please use \"FileDatasetFactory.upload_directory\" instead. See Dataset API change notice at https://aka.ms/dataset-deprecation.\n"
        },
        {
          "output_type": "stream",
          "name": "stdout",
          "text": "Uploading an estimated of 2 files\nUploading ./features.csv\nUploaded ./features.csv, 1 files out of an estimated total of 2\nUploading ./labels.csv\nUploaded ./labels.csv, 2 files out of an estimated total of 2\nUploaded 2 files\n"
        }
      ],
      "execution_count": 10,
      "metadata": {
        "gather": {
          "logged": 1744168096727
        }
      }
    },
    {
      "cell_type": "code",
      "source": [
        "import sklearn \n",
        "from azureml.core import Model\n",
        "from azureml.core.resource_configuration import ResourceConfiguration\n",
        "\n",
        "model = Model.register(\n",
        "                    workspace=ws,\n",
        "                    model_name=\"diabetes-experiment-model\",\n",
        "                    model_path=f\"./{str(best_run.get_file_names()[0])}\",\n",
        "                    model_framework=Model.Framework.SCIKITLEARN,\n",
        "                    model_framework_version=sklearn.__version__,\n",
        "                    sample_input_dataset=input_dataset,\n",
        "                    sample_output_dataset=output_dataset,\n",
        "                    resource_configuration=ResourceConfiguration(cpu=1, memory_in_gb=0.5),\n",
        "                    description=\"Ridge regression model to predict diabetes progression\",\n",
        "                    tags={\"area\": \"diabetes\", \"type\":\"regression\"}\n",
        "                    )"
      ],
      "outputs": [
        {
          "output_type": "stream",
          "name": "stdout",
          "text": "Registering model diabetes-experiment-model\n"
        }
      ],
      "execution_count": 11,
      "metadata": {
        "gather": {
          "logged": 1744168098914
        }
      }
    },
    {
      "cell_type": "code",
      "source": [
        "service_name = \"diabetes-service\"\n",
        "\n",
        "service = Model.deploy(ws, service_name, [model], overwrite=True)\n",
        "service.wait_for_deployment(show_output=True)"
      ],
      "outputs": [
        {
          "output_type": "stream",
          "name": "stderr",
          "text": "/tmp/ipykernel_375331/2962049591.py:3: FutureWarning: azureml.core.model:\nTo leverage new model deployment capabilities, AzureML recommends using CLI/SDK v2 to deploy models as online endpoint, \nplease refer to respective documentations \nhttps://docs.microsoft.com/azure/machine-learning/how-to-deploy-managed-online-endpoints /\nhttps://docs.microsoft.com/azure/machine-learning/how-to-attach-kubernetes-anywhere \nFor more information on migration, see https://aka.ms/acimoemigration \nTo disable CLI/SDK v1 deprecation warning set AZUREML_LOG_DEPRECATION_WARNING_ENABLED to 'False'\n  service = Model.deploy(ws, service_name, [model], overwrite=True)\n"
        },
        {
          "output_type": "stream",
          "name": "stdout",
          "text": "Tips: You can try get_logs(): https://aka.ms/debugimage#dockerlog or local deployment: https://aka.ms/debugimage#debug-locally to debug if deployment takes longer than 10 minutes.\nRunning\n2025-04-09 03:08:20+00:00 Creating Container Registry if not exists..\n2025-04-09 03:18:20+00:00 Registering the environment..\n2025-04-09 03:18:22+00:00 Uploading autogenerated assets for no-code-deployment.\n2025-04-09 03:18:25+00:00 Building image..\n2025-04-09 03:26:23+00:00 Generating deployment configuration..\n2025-04-09 03:26:25+00:00 Submitting deployment to compute..\n2025-04-09 03:26:34+00:00 Checking the status of deployment diabetes-service..\n2025-04-09 03:29:05+00:00 Checking the status of inference endpoint diabetes-service.\nSucceeded\nACI service creation operation finished, operation \"Succeeded\"\n"
        }
      ],
      "execution_count": 12,
      "metadata": {
        "gather": {
          "logged": 1744169357068
        }
      }
    },
    {
      "cell_type": "code",
      "source": [
        "import json\n",
        "input_payload = json.dumps({\n",
        "    'data': x_train[0:2].values.tolist(),\n",
        "    'method': 'predict'\n",
        "})\n",
        "output = service.run(input_payload)\n",
        "print(output)"
      ],
      "outputs": [
        {
          "output_type": "stream",
          "name": "stderr",
          "text": "Received bad response from service. More information can be found by calling `.get_logs()` on the webservice object.\nResponse Code: 502\nHeaders: {'Connection': 'keep-alive', 'Content-Length': '54', 'Content-Type': 'text/html; charset=utf-8', 'Date': 'Wed, 09 Apr 2025 03:30:00 GMT', 'Server': 'nginx', 'X-Ms-Client-Request-Id': 'e965ab63-067f-40f8-8c26-9d0f7a0585a4', 'X-Ms-Request-Id': 'e965ab63-067f-40f8-8c26-9d0f7a0585a4', 'X-Ms-Run-Function-Failed': 'True', 'X-Ms-Server-Version': 'azmlinfsrv/0.7.7', 'X-Request-Id': 'd9eb3de4-22c7-45b6-b723-e3e0ab6c34f3'}\nContent: b\"run() missing 1 required positional argument: 'method'\"\n\n"
        },
        {
          "output_type": "error",
          "ename": "WebserviceException",
          "evalue": "WebserviceException:\n\tMessage: Received bad response from service. More information can be found by calling `.get_logs()` on the webservice object.\nResponse Code: 502\nHeaders: {'Connection': 'keep-alive', 'Content-Length': '54', 'Content-Type': 'text/html; charset=utf-8', 'Date': 'Wed, 09 Apr 2025 03:30:00 GMT', 'Server': 'nginx', 'X-Ms-Client-Request-Id': 'e965ab63-067f-40f8-8c26-9d0f7a0585a4', 'X-Ms-Request-Id': 'e965ab63-067f-40f8-8c26-9d0f7a0585a4', 'X-Ms-Run-Function-Failed': 'True', 'X-Ms-Server-Version': 'azmlinfsrv/0.7.7', 'X-Request-Id': 'd9eb3de4-22c7-45b6-b723-e3e0ab6c34f3'}\nContent: b\"run() missing 1 required positional argument: 'method'\"\n\tInnerException None\n\tErrorResponse \n{\n    \"error\": {\n        \"message\": \"Received bad response from service. More information can be found by calling `.get_logs()` on the webservice object.\\nResponse Code: 502\\nHeaders: {'Connection': 'keep-alive', 'Content-Length': '54', 'Content-Type': 'text/html; charset=utf-8', 'Date': 'Wed, 09 Apr 2025 03:30:00 GMT', 'Server': 'nginx', 'X-Ms-Client-Request-Id': 'e965ab63-067f-40f8-8c26-9d0f7a0585a4', 'X-Ms-Request-Id': 'e965ab63-067f-40f8-8c26-9d0f7a0585a4', 'X-Ms-Run-Function-Failed': 'True', 'X-Ms-Server-Version': 'azmlinfsrv/0.7.7', 'X-Request-Id': 'd9eb3de4-22c7-45b6-b723-e3e0ab6c34f3'}\\nContent: b\\\"run() missing 1 required positional argument: 'method'\\\"\"\n    }\n}",
          "traceback": [
            "\u001b[0;31m---------------------------------------------------------------------------\u001b[0m",
            "\u001b[0;31mWebserviceException\u001b[0m                       Traceback (most recent call last)",
            "Cell \u001b[0;32mIn[14], line 6\u001b[0m\n\u001b[1;32m      1\u001b[0m \u001b[38;5;28;01mimport\u001b[39;00m \u001b[38;5;21;01mjson\u001b[39;00m\n\u001b[1;32m      2\u001b[0m input_payload \u001b[38;5;241m=\u001b[39m json\u001b[38;5;241m.\u001b[39mdumps({\n\u001b[1;32m      3\u001b[0m     \u001b[38;5;124m'\u001b[39m\u001b[38;5;124mdata\u001b[39m\u001b[38;5;124m'\u001b[39m: x_train[\u001b[38;5;241m0\u001b[39m:\u001b[38;5;241m2\u001b[39m]\u001b[38;5;241m.\u001b[39mvalues\u001b[38;5;241m.\u001b[39mtolist(),\n\u001b[1;32m      4\u001b[0m     \u001b[38;5;124m'\u001b[39m\u001b[38;5;124mmethod\u001b[39m\u001b[38;5;124m'\u001b[39m: \u001b[38;5;124m'\u001b[39m\u001b[38;5;124mpredict\u001b[39m\u001b[38;5;124m'\u001b[39m\n\u001b[1;32m      5\u001b[0m })\n\u001b[0;32m----> 6\u001b[0m output \u001b[38;5;241m=\u001b[39m \u001b[43mservice\u001b[49m\u001b[38;5;241;43m.\u001b[39;49m\u001b[43mrun\u001b[49m\u001b[43m(\u001b[49m\u001b[43minput_payload\u001b[49m\u001b[43m)\u001b[49m\n\u001b[1;32m      7\u001b[0m \u001b[38;5;28mprint\u001b[39m(output)\n",
            "File \u001b[0;32m/anaconda/envs/azureml_py38/lib/python3.10/site-packages/azureml/core/webservice/aci.py:396\u001b[0m, in \u001b[0;36mAciWebservice.run\u001b[0;34m(self, input_data)\u001b[0m\n\u001b[1;32m    394\u001b[0m     \u001b[38;5;28;01mreturn\u001b[39;00m resp\u001b[38;5;241m.\u001b[39mjson()\n\u001b[1;32m    395\u001b[0m \u001b[38;5;28;01melse\u001b[39;00m:\n\u001b[0;32m--> 396\u001b[0m     \u001b[38;5;28;01mraise\u001b[39;00m WebserviceException(\u001b[38;5;124m'\u001b[39m\u001b[38;5;124mReceived bad response from service. More information can be found by calling \u001b[39m\u001b[38;5;124m'\u001b[39m\n\u001b[1;32m    397\u001b[0m                               \u001b[38;5;124m'\u001b[39m\u001b[38;5;124m`.get_logs()` on the webservice object.\u001b[39m\u001b[38;5;130;01m\\n\u001b[39;00m\u001b[38;5;124m'\u001b[39m\n\u001b[1;32m    398\u001b[0m                               \u001b[38;5;124m'\u001b[39m\u001b[38;5;124mResponse Code: \u001b[39m\u001b[38;5;132;01m{}\u001b[39;00m\u001b[38;5;130;01m\\n\u001b[39;00m\u001b[38;5;124m'\u001b[39m\n\u001b[1;32m    399\u001b[0m                               \u001b[38;5;124m'\u001b[39m\u001b[38;5;124mHeaders: \u001b[39m\u001b[38;5;132;01m{}\u001b[39;00m\u001b[38;5;130;01m\\n\u001b[39;00m\u001b[38;5;124m'\u001b[39m\n\u001b[1;32m    400\u001b[0m                               \u001b[38;5;124m'\u001b[39m\u001b[38;5;124mContent: \u001b[39m\u001b[38;5;132;01m{}\u001b[39;00m\u001b[38;5;124m'\u001b[39m\u001b[38;5;241m.\u001b[39mformat(resp\u001b[38;5;241m.\u001b[39mstatus_code, resp\u001b[38;5;241m.\u001b[39mheaders, resp\u001b[38;5;241m.\u001b[39mcontent),\n\u001b[1;32m    401\u001b[0m                               logger\u001b[38;5;241m=\u001b[39mmodule_logger)\n",
            "\u001b[0;31mWebserviceException\u001b[0m: WebserviceException:\n\tMessage: Received bad response from service. More information can be found by calling `.get_logs()` on the webservice object.\nResponse Code: 502\nHeaders: {'Connection': 'keep-alive', 'Content-Length': '54', 'Content-Type': 'text/html; charset=utf-8', 'Date': 'Wed, 09 Apr 2025 03:30:00 GMT', 'Server': 'nginx', 'X-Ms-Client-Request-Id': 'e965ab63-067f-40f8-8c26-9d0f7a0585a4', 'X-Ms-Request-Id': 'e965ab63-067f-40f8-8c26-9d0f7a0585a4', 'X-Ms-Run-Function-Failed': 'True', 'X-Ms-Server-Version': 'azmlinfsrv/0.7.7', 'X-Request-Id': 'd9eb3de4-22c7-45b6-b723-e3e0ab6c34f3'}\nContent: b\"run() missing 1 required positional argument: 'method'\"\n\tInnerException None\n\tErrorResponse \n{\n    \"error\": {\n        \"message\": \"Received bad response from service. More information can be found by calling `.get_logs()` on the webservice object.\\nResponse Code: 502\\nHeaders: {'Connection': 'keep-alive', 'Content-Length': '54', 'Content-Type': 'text/html; charset=utf-8', 'Date': 'Wed, 09 Apr 2025 03:30:00 GMT', 'Server': 'nginx', 'X-Ms-Client-Request-Id': 'e965ab63-067f-40f8-8c26-9d0f7a0585a4', 'X-Ms-Request-Id': 'e965ab63-067f-40f8-8c26-9d0f7a0585a4', 'X-Ms-Run-Function-Failed': 'True', 'X-Ms-Server-Version': 'azmlinfsrv/0.7.7', 'X-Request-Id': 'd9eb3de4-22c7-45b6-b723-e3e0ab6c34f3'}\\nContent: b\\\"run() missing 1 required positional argument: 'method'\\\"\"\n    }\n}"
          ]
        }
      ],
      "execution_count": 14,
      "metadata": {
        "gather": {
          "logged": 1744169401381
        }
      }
    }
  ],
  "metadata": {
    "kernelspec": {
      "name": "python38-azureml",
      "language": "python",
      "display_name": "Python 3.8 - AzureML"
    },
    "language_info": {
      "name": "python",
      "version": "3.10.11",
      "mimetype": "text/x-python",
      "codemirror_mode": {
        "name": "ipython",
        "version": 3
      },
      "pygments_lexer": "ipython3",
      "nbconvert_exporter": "python",
      "file_extension": ".py"
    },
    "kernel_info": {
      "name": "python38-azureml"
    },
    "microsoft": {
      "host": {
        "AzureML": {
          "notebookHasBeenCompleted": true
        }
      }
    },
    "nteract": {
      "version": "nteract-front-end@1.0.0"
    }
  },
  "nbformat": 4,
  "nbformat_minor": 2
}